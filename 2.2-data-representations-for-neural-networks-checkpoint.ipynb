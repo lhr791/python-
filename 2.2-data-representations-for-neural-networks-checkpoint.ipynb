{
 "cells": [
  {
   "cell_type": "markdown",
   "metadata": {
    "toc": true
   },
   "source": [
    "<h1>Table of Contents<span class=\"tocSkip\"></span></h1>\n",
    "<div class=\"toc\"><ul class=\"toc-item\"><li><span><a href=\"#Scalars(0D-tensors)\" data-toc-modified-id=\"Scalars(0D-tensors)-1\"><span class=\"toc-item-num\">1&nbsp;&nbsp;</span>Scalars(0D tensors)</a></span></li><li><span><a href=\"#Vector(1D-tensors)\" data-toc-modified-id=\"Vector(1D-tensors)-2\"><span class=\"toc-item-num\">2&nbsp;&nbsp;</span>Vector(1D tensors)</a></span></li><li><span><a href=\"#Matrices(2D-tensors)\" data-toc-modified-id=\"Matrices(2D-tensors)-3\"><span class=\"toc-item-num\">3&nbsp;&nbsp;</span>Matrices(2D tensors)</a></span></li><li><span><a href=\"#3Dtensors-and-higher-dimensional\" data-toc-modified-id=\"3Dtensors-and-higher-dimensional-4\"><span class=\"toc-item-num\">4&nbsp;&nbsp;</span>3Dtensors and higher-dimensional</a></span></li><li><span><a href=\"#Key-attributes-关键属性\" data-toc-modified-id=\"Key-attributes-关键属性-5\"><span class=\"toc-item-num\">5&nbsp;&nbsp;</span>Key attributes 关键属性</a></span></li><li><span><a href=\"#Manipulating-tensors-in-Numpy\" data-toc-modified-id=\"Manipulating-tensors-in-Numpy-6\"><span class=\"toc-item-num\">6&nbsp;&nbsp;</span>Manipulating tensors in Numpy</a></span></li><li><span><a href=\"#The-notion-of-data-batchs\" data-toc-modified-id=\"The-notion-of-data-batchs-7\"><span class=\"toc-item-num\">7&nbsp;&nbsp;</span>The notion of data batchs</a></span></li><li><span><a href=\"#Real-world-examples-of-data-tensors\" data-toc-modified-id=\"Real-world-examples-of-data-tensors-8\"><span class=\"toc-item-num\">8&nbsp;&nbsp;</span>Real-world examples of data tensors</a></span><ul class=\"toc-item\"><li><span><a href=\"#Vector-data--2D-tensors-of-shape(examples,features)\" data-toc-modified-id=\"Vector-data--2D-tensors-of-shape(examples,features)-8.1\"><span class=\"toc-item-num\">8.1&nbsp;&nbsp;</span>Vector data--2D tensors of shape(examples,features)</a></span></li><li><span><a href=\"#Timeseries-data-or-sequence-data---3D-tensors-of-shape(samples,timesteps,features)\" data-toc-modified-id=\"Timeseries-data-or-sequence-data---3D-tensors-of-shape(samples,timesteps,features)-8.2\"><span class=\"toc-item-num\">8.2&nbsp;&nbsp;</span>Timeseries data or sequence data-- 3D tensors of shape(samples,timesteps,features)</a></span></li><li><span><a href=\"#image-4D-tensors-of-shape（samples,channel,width,height）or(samples,width,height,channel)\" data-toc-modified-id=\"image-4D-tensors-of-shape（samples,channel,width,height）or(samples,width,height,channel)-8.3\"><span class=\"toc-item-num\">8.3&nbsp;&nbsp;</span>image 4D tensors of shape（samples,channel,width,height）or(samples,width,height,channel)</a></span></li><li><span><a href=\"#video-5D-tensors-of-shape(samples,frame,width,height,channel)\" data-toc-modified-id=\"video-5D-tensors-of-shape(samples,frame,width,height,channel)-8.4\"><span class=\"toc-item-num\">8.4&nbsp;&nbsp;</span>video 5D tensors of shape(samples,frame,width,height,channel)</a></span></li></ul></li></ul></div>"
   ]
  },
  {
   "cell_type": "markdown",
   "metadata": {},
   "source": [
    "2.2　神经网络的数据表示"
   ]
  },
  {
   "cell_type": "markdown",
   "metadata": {},
   "source": [
    "# Scalars(0D tensors)\n",
    "Scalars存量：0维张量\n",
    "tensor：张量，是一个容易，能有若干维度"
   ]
  },
  {
   "cell_type": "code",
   "execution_count": 2,
   "metadata": {},
   "outputs": [
    {
     "data": {
      "text/plain": [
       "array(12)"
      ]
     },
     "execution_count": 2,
     "metadata": {},
     "output_type": "execute_result"
    }
   ],
   "source": [
    "import numpy as np #行规，np是numpy简写\n",
    "x = np.array(12)\n",
    "x"
   ]
  },
  {
   "cell_type": "code",
   "execution_count": 5,
   "metadata": {},
   "outputs": [],
   "source": [
    "np.array?"
   ]
  },
  {
   "cell_type": "code",
   "execution_count": 6,
   "metadata": {},
   "outputs": [
    {
     "data": {
      "text/plain": [
       "0"
      ]
     },
     "execution_count": 6,
     "metadata": {},
     "output_type": "execute_result"
    }
   ],
   "source": [
    "x.ndim #ndim查看维度"
   ]
  },
  {
   "cell_type": "markdown",
   "metadata": {},
   "source": [
    "# Vector(1D tensors)\n",
    "\n",
    "\n",
    "注意向量与张量 "
   ]
  },
  {
   "cell_type": "code",
   "execution_count": 7,
   "metadata": {},
   "outputs": [
    {
     "data": {
      "text/plain": [
       "array([12,  3,  5,  4])"
      ]
     },
     "execution_count": 7,
     "metadata": {},
     "output_type": "execute_result"
    }
   ],
   "source": [
    "x = np.array([12,3,5,4])#一维张量，4维向量\n",
    "x"
   ]
  },
  {
   "cell_type": "code",
   "execution_count": 13,
   "metadata": {},
   "outputs": [
    {
     "data": {
      "text/plain": [
       "1"
      ]
     },
     "execution_count": 13,
     "metadata": {},
     "output_type": "execute_result"
    }
   ],
   "source": [
    "x.ndim"
   ]
  },
  {
   "cell_type": "code",
   "execution_count": 14,
   "metadata": {},
   "outputs": [
    {
     "data": {
      "text/plain": [
       "(4,)"
      ]
     },
     "execution_count": 14,
     "metadata": {},
     "output_type": "execute_result"
    }
   ],
   "source": [
    "x.shape"
   ]
  },
  {
   "cell_type": "markdown",
   "metadata": {},
   "source": [
    "# Matrices(2D tensors)\n",
    "\n",
    "矩阵是2维张量，可以认为矩阵是由许多1维向量组成的。"
   ]
  },
  {
   "cell_type": "code",
   "execution_count": 9,
   "metadata": {},
   "outputs": [
    {
     "data": {
      "text/plain": [
       "array([[1, 2, 3, 1],\n",
       "       [3, 4, 5, 1],\n",
       "       [4, 5, 6, 2]])"
      ]
     },
     "execution_count": 9,
     "metadata": {},
     "output_type": "execute_result"
    }
   ],
   "source": [
    "x = np.array([[1,2,3,1],\n",
    "            [3,4,5,1],[4,5,6,2]])#3*4的矩阵\n",
    "x"
   ]
  },
  {
   "cell_type": "code",
   "execution_count": 10,
   "metadata": {},
   "outputs": [
    {
     "data": {
      "text/plain": [
       "2"
      ]
     },
     "execution_count": 10,
     "metadata": {},
     "output_type": "execute_result"
    }
   ],
   "source": [
    "x.ndim #(3, 4)两个轴是2维"
   ]
  },
  {
   "cell_type": "code",
   "execution_count": 11,
   "metadata": {},
   "outputs": [
    {
     "data": {
      "text/plain": [
       "(3, 4)"
      ]
     },
     "execution_count": 11,
     "metadata": {},
     "output_type": "execute_result"
    }
   ],
   "source": [
    "x.shape"
   ]
  },
  {
   "cell_type": "markdown",
   "metadata": {},
   "source": [
    "# 3Dtensors and higher-dimensional\n",
    "\n",
    "3维张量，可以认为3维是由许多2维矩阵组成的。"
   ]
  },
  {
   "cell_type": "code",
   "execution_count": 12,
   "metadata": {},
   "outputs": [
    {
     "data": {
      "text/plain": [
       "array([[[1, 2, 3],\n",
       "        [2, 3, 4]],\n",
       "\n",
       "       [[4, 5, 6],\n",
       "        [7, 8, 9]]])"
      ]
     },
     "execution_count": 12,
     "metadata": {},
     "output_type": "execute_result"
    }
   ],
   "source": [
    "x = np.array([[[1,2,3],[2,3,4]],[[4,5,6],[7,8,9]]])\n",
    "x"
   ]
  },
  {
   "cell_type": "code",
   "execution_count": 13,
   "metadata": {},
   "outputs": [
    {
     "data": {
      "text/plain": [
       "(2, 2, 3)"
      ]
     },
     "execution_count": 13,
     "metadata": {},
     "output_type": "execute_result"
    }
   ],
   "source": [
    "x.shape"
   ]
  },
  {
   "cell_type": "code",
   "execution_count": 14,
   "metadata": {},
   "outputs": [
    {
     "data": {
      "text/plain": [
       "3"
      ]
     },
     "execution_count": 14,
     "metadata": {},
     "output_type": "execute_result"
    }
   ],
   "source": [
    "x.ndim"
   ]
  },
  {
   "cell_type": "code",
   "execution_count": 18,
   "metadata": {},
   "outputs": [
    {
     "name": "stdout",
     "output_type": "stream",
     "text": [
      "[[[[13  0 13]\n",
      "   [16  9 28]]\n",
      "\n",
      "  [[ 6 22 11]\n",
      "   [21 14 11]]]\n",
      "\n",
      "\n",
      " [[[18  3  6]\n",
      "   [26 21 16]]\n",
      "\n",
      "  [[20 13  8]\n",
      "   [25 27 28]]]\n",
      "\n",
      "\n",
      " [[[ 3 19  5]\n",
      "   [ 0 12  3]]\n",
      "\n",
      "  [[25 19 29]\n",
      "   [ 8 26 18]]]]\n"
     ]
    },
    {
     "data": {
      "text/plain": [
       "4"
      ]
     },
     "execution_count": 18,
     "metadata": {},
     "output_type": "execute_result"
    }
   ],
   "source": [
    "x = np.random.randint(30,size=(3,2,2,3)) #np里随机产生randint整数，0-29中30个数字里选，3,2,2,3维\n",
    "print(x)\n",
    "x.ndim"
   ]
  },
  {
   "cell_type": "code",
   "execution_count": 19,
   "metadata": {},
   "outputs": [
    {
     "data": {
      "text/plain": [
       "array([[[[[ 2,  1,  4, 14],\n",
       "          [ 9, 10,  6, 13]],\n",
       "\n",
       "         [[21, 25,  3,  8],\n",
       "          [ 0, 21, 17,  1]],\n",
       "\n",
       "         [[28,  9,  0, 10],\n",
       "          [22, 13, 21, 11]]],\n",
       "\n",
       "\n",
       "        [[[26, 17, 29, 18],\n",
       "          [12,  6,  7,  3]],\n",
       "\n",
       "         [[20, 13,  3, 20],\n",
       "          [13, 13,  4, 10]],\n",
       "\n",
       "         [[ 7, 27, 13, 15],\n",
       "          [15,  2, 28, 12]]],\n",
       "\n",
       "\n",
       "        [[[ 2, 27, 12, 13],\n",
       "          [23, 17, 10, 24]],\n",
       "\n",
       "         [[ 0, 22, 16,  5],\n",
       "          [ 0, 23,  1, 18]],\n",
       "\n",
       "         [[18, 28, 22, 24],\n",
       "          [ 8,  1, 22, 23]]]],\n",
       "\n",
       "\n",
       "\n",
       "       [[[[ 1, 22, 22, 28],\n",
       "          [16, 10, 11, 29]],\n",
       "\n",
       "         [[ 7,  0,  7, 21],\n",
       "          [ 7, 27, 11,  0]],\n",
       "\n",
       "         [[15, 18, 25,  9],\n",
       "          [ 7, 18, 25, 28]]],\n",
       "\n",
       "\n",
       "        [[[18, 13,  5, 24],\n",
       "          [ 7,  1, 24, 14]],\n",
       "\n",
       "         [[16, 16, 15, 28],\n",
       "          [14, 10, 25, 13]],\n",
       "\n",
       "         [[ 6, 18, 14, 20],\n",
       "          [ 5,  3,  9, 15]]],\n",
       "\n",
       "\n",
       "        [[[11, 25, 26,  0],\n",
       "          [14, 24, 18, 26]],\n",
       "\n",
       "         [[26, 14, 17, 12],\n",
       "          [23, 26,  1,  0]],\n",
       "\n",
       "         [[ 6, 27, 21, 27],\n",
       "          [11, 26,  1, 26]]]]])"
      ]
     },
     "execution_count": 19,
     "metadata": {},
     "output_type": "execute_result"
    }
   ],
   "source": [
    "x=np.random.randint(30,size=(2,3,3,2,4)) \n",
    "x"
   ]
  },
  {
   "cell_type": "code",
   "execution_count": 20,
   "metadata": {},
   "outputs": [
    {
     "data": {
      "text/plain": [
       "5"
      ]
     },
     "execution_count": 20,
     "metadata": {},
     "output_type": "execute_result"
    }
   ],
   "source": [
    "x.ndim"
   ]
  },
  {
   "cell_type": "markdown",
   "metadata": {},
   "source": [
    "# Key attributes 关键属性"
   ]
  },
  {
   "cell_type": "code",
   "execution_count": 21,
   "metadata": {},
   "outputs": [],
   "source": [
    "from keras.datasets import mnist"
   ]
  },
  {
   "cell_type": "code",
   "execution_count": 22,
   "metadata": {},
   "outputs": [],
   "source": [
    "(train_images,train_labels),(test_image,test_labels) = mnist.load_data()"
   ]
  },
  {
   "cell_type": "code",
   "execution_count": 23,
   "metadata": {},
   "outputs": [
    {
     "name": "stdout",
     "output_type": "stream",
     "text": [
      "3\n"
     ]
    }
   ],
   "source": [
    "print(train_images.ndim) "
   ]
  },
  {
   "cell_type": "code",
   "execution_count": 25,
   "metadata": {},
   "outputs": [
    {
     "name": "stdout",
     "output_type": "stream",
     "text": [
      "(60000, 28, 28)\n"
     ]
    }
   ],
   "source": [
    "print(train_images.shape)"
   ]
  },
  {
   "cell_type": "code",
   "execution_count": 27,
   "metadata": {},
   "outputs": [
    {
     "name": "stdout",
     "output_type": "stream",
     "text": [
      "uint8\n"
     ]
    }
   ],
   "source": [
    "print(train_images.dtype) #uint8 8bit整数储存"
   ]
  },
  {
   "cell_type": "code",
   "execution_count": 32,
   "metadata": {},
   "outputs": [
    {
     "data": {
      "text/plain": [
       "array([[  0,   0,   0,   0,   0,   0,   0,   0,   0,   0,   0,   0,   0,\n",
       "          0,   0,   0,   0,   0,   0,   0,   0,   0,   0,   0,   0,   0,\n",
       "          0,   0],\n",
       "       [  0,   0,   0,   0,   0,   0,   0,   0,   0,   0,   0,   0,   0,\n",
       "          0,   0,   0,   0,   0,   0,   0,   0,   0,   0,   0,   0,   0,\n",
       "          0,   0],\n",
       "       [  0,   0,   0,   0,   0,   0,   0,   0,   0,   0,   0,   0,   0,\n",
       "          0,   0,   0,   0,   0,   0,   0,   0,   0,   0,   0,   0,   0,\n",
       "          0,   0],\n",
       "       [  0,   0,   0,   0,   0,   0,   0,   0,   0,   0,   0,   0,   0,\n",
       "          0,   0,   0,   0,   0,   0,   0,   0,   0,   0,   0,   0,   0,\n",
       "          0,   0],\n",
       "       [  0,   0,   0,   0,   0,   0,   0,   0,   0,   0,   0,   0,   0,\n",
       "          0,   0,   0,   0,   0,   0,   0,   0,   0,   0,   0,   0,   0,\n",
       "          0,   0],\n",
       "       [  0,   0,   0,   0,   0,   0,   0,   0,   0,   0,   0,   0,   0,\n",
       "          0,   0,   0,   0,   0,   0,   0,   0,   0,   0,   0,   0,   0,\n",
       "          0,   0],\n",
       "       [  0,   0,   0,   0,   0,   0,   0,   0,   0,   0,   0,   0,   0,\n",
       "          0,   0,   0,   0,   0,   0,   0,   0,   0,   0,   0,   0,   0,\n",
       "          0,   0],\n",
       "       [  0,   0,   0,   0,   0,   0,   0,   0,   0,   0,   0,   0,  55,\n",
       "        148, 210, 253, 253, 113,  87, 148,  55,   0,   0,   0,   0,   0,\n",
       "          0,   0],\n",
       "       [  0,   0,   0,   0,   0,   0,   0,   0,   0,   0,   0,  87, 232,\n",
       "        252, 253, 189, 210, 252, 252, 253, 168,   0,   0,   0,   0,   0,\n",
       "          0,   0],\n",
       "       [  0,   0,   0,   0,   0,   0,   0,   0,   0,   4,  57, 242, 252,\n",
       "        190,  65,   5,  12, 182, 252, 253, 116,   0,   0,   0,   0,   0,\n",
       "          0,   0],\n",
       "       [  0,   0,   0,   0,   0,   0,   0,   0,   0,  96, 252, 252, 183,\n",
       "         14,   0,   0,  92, 252, 252, 225,  21,   0,   0,   0,   0,   0,\n",
       "          0,   0],\n",
       "       [  0,   0,   0,   0,   0,   0,   0,   0, 132, 253, 252, 146,  14,\n",
       "          0,   0,   0, 215, 252, 252,  79,   0,   0,   0,   0,   0,   0,\n",
       "          0,   0],\n",
       "       [  0,   0,   0,   0,   0,   0,   0, 126, 253, 247, 176,   9,   0,\n",
       "          0,   8,  78, 245, 253, 129,   0,   0,   0,   0,   0,   0,   0,\n",
       "          0,   0],\n",
       "       [  0,   0,   0,   0,   0,   0,  16, 232, 252, 176,   0,   0,   0,\n",
       "         36, 201, 252, 252, 169,  11,   0,   0,   0,   0,   0,   0,   0,\n",
       "          0,   0],\n",
       "       [  0,   0,   0,   0,   0,   0,  22, 252, 252,  30,  22, 119, 197,\n",
       "        241, 253, 252, 251,  77,   0,   0,   0,   0,   0,   0,   0,   0,\n",
       "          0,   0],\n",
       "       [  0,   0,   0,   0,   0,   0,  16, 231, 252, 253, 252, 252, 252,\n",
       "        226, 227, 252, 231,   0,   0,   0,   0,   0,   0,   0,   0,   0,\n",
       "          0,   0],\n",
       "       [  0,   0,   0,   0,   0,   0,   0,  55, 235, 253, 217, 138,  42,\n",
       "         24, 192, 252, 143,   0,   0,   0,   0,   0,   0,   0,   0,   0,\n",
       "          0,   0],\n",
       "       [  0,   0,   0,   0,   0,   0,   0,   0,   0,   0,   0,   0,   0,\n",
       "         62, 255, 253, 109,   0,   0,   0,   0,   0,   0,   0,   0,   0,\n",
       "          0,   0],\n",
       "       [  0,   0,   0,   0,   0,   0,   0,   0,   0,   0,   0,   0,   0,\n",
       "         71, 253, 252,  21,   0,   0,   0,   0,   0,   0,   0,   0,   0,\n",
       "          0,   0],\n",
       "       [  0,   0,   0,   0,   0,   0,   0,   0,   0,   0,   0,   0,   0,\n",
       "          0, 253, 252,  21,   0,   0,   0,   0,   0,   0,   0,   0,   0,\n",
       "          0,   0],\n",
       "       [  0,   0,   0,   0,   0,   0,   0,   0,   0,   0,   0,   0,   0,\n",
       "         71, 253, 252,  21,   0,   0,   0,   0,   0,   0,   0,   0,   0,\n",
       "          0,   0],\n",
       "       [  0,   0,   0,   0,   0,   0,   0,   0,   0,   0,   0,   0,   0,\n",
       "        106, 253, 252,  21,   0,   0,   0,   0,   0,   0,   0,   0,   0,\n",
       "          0,   0],\n",
       "       [  0,   0,   0,   0,   0,   0,   0,   0,   0,   0,   0,   0,   0,\n",
       "         45, 255, 253,  21,   0,   0,   0,   0,   0,   0,   0,   0,   0,\n",
       "          0,   0],\n",
       "       [  0,   0,   0,   0,   0,   0,   0,   0,   0,   0,   0,   0,   0,\n",
       "          0, 218, 252,  56,   0,   0,   0,   0,   0,   0,   0,   0,   0,\n",
       "          0,   0],\n",
       "       [  0,   0,   0,   0,   0,   0,   0,   0,   0,   0,   0,   0,   0,\n",
       "          0,  96, 252, 189,  42,   0,   0,   0,   0,   0,   0,   0,   0,\n",
       "          0,   0],\n",
       "       [  0,   0,   0,   0,   0,   0,   0,   0,   0,   0,   0,   0,   0,\n",
       "          0,  14, 184, 252, 170,  11,   0,   0,   0,   0,   0,   0,   0,\n",
       "          0,   0],\n",
       "       [  0,   0,   0,   0,   0,   0,   0,   0,   0,   0,   0,   0,   0,\n",
       "          0,   0,  14, 147, 252,  42,   0,   0,   0,   0,   0,   0,   0,\n",
       "          0,   0],\n",
       "       [  0,   0,   0,   0,   0,   0,   0,   0,   0,   0,   0,   0,   0,\n",
       "          0,   0,   0,   0,   0,   0,   0,   0,   0,   0,   0,   0,   0,\n",
       "          0,   0]], dtype=uint8)"
      ]
     },
     "execution_count": 32,
     "metadata": {},
     "output_type": "execute_result"
    }
   ],
   "source": [
    "train_images[4]"
   ]
  },
  {
   "cell_type": "code",
   "execution_count": 36,
   "metadata": {},
   "outputs": [
    {
     "data": {
      "image/png": "[encoded data removed]",
      "text/plain": [
       "<Figure size 432x288 with 1 Axes>"
      ]
     },
     "metadata": {
      "needs_background": "light"
     },
     "output_type": "display_data"
    }
   ],
   "source": [
    "digit = train_images[4] #第5张图，这里只输入第一维，后两维自动补上\n",
    "import matplotlib.pyplot as plt #画图包，大部分人简称它为plt\n",
    "%matplotlib inline\n",
    "plt.imshow(digit,cmap=plt.cm.binary) #cmap=plt.cm.binary:颜色=黑白\n",
    "plt.show()"
   ]
  },
  {
   "cell_type": "code",
   "execution_count": 37,
   "metadata": {},
   "outputs": [
    {
     "data": {
      "text/plain": [
       "(28, 28)"
      ]
     },
     "execution_count": 37,
     "metadata": {},
     "output_type": "execute_result"
    }
   ],
   "source": [
    "digit.shape"
   ]
  },
  {
   "cell_type": "markdown",
   "metadata": {},
   "source": [
    "# Manipulating tensors in Numpy\n",
    "\n",
    "切片，资料里截取想要的"
   ]
  },
  {
   "cell_type": "code",
   "execution_count": 39,
   "metadata": {},
   "outputs": [
    {
     "data": {
      "text/plain": [
       "[4, 5]"
      ]
     },
     "execution_count": 39,
     "metadata": {},
     "output_type": "execute_result"
    }
   ],
   "source": [
    "a=[1,2,3,4,5,6,7,8,9,10]\n",
    "a[3:5]"
   ]
  },
  {
   "cell_type": "code",
   "execution_count": 38,
   "metadata": {},
   "outputs": [
    {
     "name": "stdout",
     "output_type": "stream",
     "text": [
      "(90, 28, 28)\n"
     ]
    }
   ],
   "source": [
    "my_slice = train_images[10:100] # 11-100张，共90张(编号10-100,编号100取不到)\n",
    "print(my_slice.shape)"
   ]
  },
  {
   "cell_type": "code",
   "execution_count": 41,
   "metadata": {},
   "outputs": [
    {
     "data": {
      "text/plain": [
       "(90, 28, 28)"
      ]
     },
     "execution_count": 41,
     "metadata": {},
     "output_type": "execute_result"
    }
   ],
   "source": [
    "my_slice = train_images[10:100,:,:] #后面东西写写也行\n",
    "my_slice.shape"
   ]
  },
  {
   "cell_type": "code",
   "execution_count": 42,
   "metadata": {},
   "outputs": [
    {
     "data": {
      "text/plain": [
       "(90, 28, 28)"
      ]
     },
     "execution_count": 42,
     "metadata": {},
     "output_type": "execute_result"
    }
   ],
   "source": [
    "my_slice = train_images[10:100,0:28,0:28] #一个意思\n",
    "my_slice.shape"
   ]
  },
  {
   "cell_type": "code",
   "execution_count": 43,
   "metadata": {},
   "outputs": [
    {
     "data": {
      "text/plain": [
       "(60000, 14, 14)"
      ]
     },
     "execution_count": 43,
     "metadata": {},
     "output_type": "execute_result"
    }
   ],
   "source": [
    "my_slice = train_images[:,0:14,0:14] #取右下角14*14像素\n",
    "my_slice.shape"
   ]
  },
  {
   "cell_type": "code",
   "execution_count": null,
   "metadata": {},
   "outputs": [],
   "source": []
  },
  {
   "cell_type": "code",
   "execution_count": 45,
   "metadata": {},
   "outputs": [
    {
     "data": {
      "text/plain": [
       "(60000, 14, 14)"
      ]
     },
     "execution_count": 45,
     "metadata": {},
     "output_type": "execute_result"
    }
   ],
   "source": [
    "my_slice = train_images[:,7:-7,7:-7]#取中间14*14像素\n",
    "my_slice.shape"
   ]
  },
  {
   "cell_type": "markdown",
   "metadata": {},
   "source": [
    "# The notion of data batchs\n",
    "\n",
    "batch size of 128(2^7):\n",
    "\n",
    "+ batch = train_images[:128]\n",
    "+ batch = train_images[128:256]\n",
    "+ batch = train_images[128n:128(n+1)]"
   ]
  },
  {
   "cell_type": "markdown",
   "metadata": {},
   "source": [
    "批量的概念：资料太多，小批量放进去。"
   ]
  },
  {
   "cell_type": "markdown",
   "metadata": {},
   "source": [
    "# Real-world examples of data tensors\n",
    "## Vector data--2D tensors of shape(examples,features)\n",
    "\n",
    "+ An acturial dataset of people,where we consider each person's age ,Zip code and income。Each person can be characterized as a vector of 3 values,and thus an entire dataset of 100,000 people can be stored in a 2D tensor of shape(100000,3).\n",
    "\n",
    "## Timeseries data or sequence data-- 3D tensors of shape(samples,timesteps,features)\n",
    "\n",
    "+ 具体示例看书本\n",
    "\n",
    "## image 4D tensors of shape（samples,channel,width,height）or(samples,width,height,channel)\n",
    "\n",
    "## video 5D tensors of shape(samples,frame,width,height,channel)"
   ]
  },
  {
   "cell_type": "markdown",
   "metadata": {},
   "source": [
    "现实生活中张量是多少？\n",
    "2D\n",
    "+ （样本轴，特征轴）假设收集10w人，每人记录年纪，地区号，收入(100000,3)\n",
    "+ 500文章，每一篇的单字 (500,20000) [0,1,0,0,1,0,1,0,1,0.....] 这个相当于一篇文章第1个字没出现，第二个字出现....."
   ]
  },
  {
   "cell_type": "markdown",
   "metadata": {},
   "source": [
    "3D\n",
    "+ 样本个数+一个矩阵 收集股票价格(365,390,3)365个390* 3的矩阵"
   ]
  },
  {
   "cell_type": "code",
   "execution_count": null,
   "metadata": {},
   "outputs": [],
   "source": []
  }
 ],
 "metadata": {
  "kernelspec": {
   "display_name": "Python 3",
   "language": "python",
   "name": "python3"
  },
  "language_info": {
   "codemirror_mode": {
    "name": "ipython",
    "version": 3
   },
   "file_extension": ".py",
   "mimetype": "text/x-python",
   "name": "python",
   "nbconvert_exporter": "python",
   "pygments_lexer": "ipython3",
   "version": "3.8.5"
  },
  "toc": {
   "base_numbering": 1,
   "nav_menu": {},
   "number_sections": true,
   "sideBar": true,
   "skip_h1_title": false,
   "title_cell": "Table of Contents",
   "title_sidebar": "Contents",
   "toc_cell": true,
   "toc_position": {},
   "toc_section_display": true,
   "toc_window_display": true
  }
 },
 "nbformat": 4,
 "nbformat_minor": 2
}
